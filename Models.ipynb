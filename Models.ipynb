{
 "cells": [
  {
   "cell_type": "code",
   "execution_count": 26,
   "metadata": {},
   "outputs": [],
   "source": [
    "import os\n",
    "import pandas as pd\n",
    "import numpy as np\n",
    "import nltk\n",
    "import praw\n",
    "from sklearn.externals import joblib\n",
    "from sklearn.model_selection import train_test_split\n",
    "from sklearn.feature_extraction.text import CountVectorizer, TfidfVectorizer\n",
    "from sklearn.metrics import accuracy_score, confusion_matrix\n",
    "import matplotlib.pyplot as plt\n",
    "from nltk.corpus import stopwords\n",
    "import re\n",
    "from wordcloud import WordCloud, STOPWORDS \n",
    "from sklearn.model_selection import cross_val_score\n",
    "from sklearn.metrics import roc_auc_score\n",
    "from sklearn.model_selection import GridSearchCV, RandomizedSearchCV\n",
    "from sklearn.metrics import roc_auc_score\n",
    "from sklearn.feature_extraction.text import TfidfVectorizer\n",
    "from sklearn import tree\n",
    "from sklearn.metrics import classification_report\n",
    "from sklearn.feature_extraction.text import CountVectorizer\n",
    "from sklearn.metrics import confusion_matrix\n",
    "import datetime as dt\n",
    "from bs4 import BeautifulSoup\n",
    "from sklearn.pipeline import Pipeline\n",
    "from sklearn.feature_extraction.text import TfidfTransformer\n",
    "from sklearn.metrics import classification_report"
   ]
  },
  {
   "cell_type": "code",
   "execution_count": 2,
   "metadata": {},
   "outputs": [],
   "source": [
    "# https://stackoverflow.com/questions/16206380/python-beautifulsoup-how-to-remove-all-tags-from-an-element\n",
    "from bs4 import BeautifulSoup\n",
    "# https://stackoverflow.com/a/47091490/4084039\n",
    "import re\n",
    "\n",
    "def decontracted(phrase):\n",
    "    # specific\n",
    "    phrase = re.sub(r\"won't\", \"will not\", phrase)\n",
    "    phrase = re.sub(r\"can\\'t\", \"can not\", phrase)\n",
    "\n",
    "    # general\n",
    "    phrase = re.sub(r\"n\\'t\", \" not\", phrase)\n",
    "    phrase = re.sub(r\"\\'re\", \" are\", phrase)\n",
    "    phrase = re.sub(r\"\\'s\", \" is\", phrase)\n",
    "    phrase = re.sub(r\"\\'d\", \" would\", phrase)\n",
    "    phrase = re.sub(r\"\\'ll\", \" will\", phrase)\n",
    "    phrase = re.sub(r\"\\'t\", \" not\", phrase)\n",
    "    phrase = re.sub(r\"\\'ve\", \" have\", phrase)\n",
    "    phrase = re.sub(r\"\\'m\", \" am\", phrase)\n",
    "    return phrase"
   ]
  },
  {
   "cell_type": "code",
   "execution_count": 3,
   "metadata": {},
   "outputs": [],
   "source": [
    "flairs = [\"AskIndia\", \"Non-Political\", \"[R]eddiquette\", \n",
    "          \"Scheduled\", \"Photography\", \"Science/Technology\", \"Politics\",\n",
    "          \"Business/Finance\", \"Policy/Economy\", \"Sports\", \"Food\", \"AMA\", \"Coronavirus\",\n",
    "         \"CAA-NRC-NPR\" ]"
   ]
  },
  {
   "cell_type": "code",
   "execution_count": 4,
   "metadata": {},
   "outputs": [],
   "source": [
    "import warnings\n",
    "warnings.filterwarnings(\"ignore\")\n",
    "## Remember to add documentation before sending\n",
    "from tqdm import tqdm"
   ]
  },
  {
   "cell_type": "code",
   "execution_count": 5,
   "metadata": {},
   "outputs": [
    {
     "data": {
      "text/plain": [
       "Index(['flair', 'title', 'score', 'id', 'url', 'comms_num', 'created', 'body',\n",
       "       'author', 'comments'],\n",
       "      dtype='object')"
      ]
     },
     "execution_count": 5,
     "metadata": {},
     "output_type": "execute_result"
    }
   ],
   "source": [
    "df=pd.read_csv(\"reddit-india-data.csv\")\n",
    "df.columns"
   ]
  },
  {
   "cell_type": "code",
   "execution_count": 6,
   "metadata": {},
   "outputs": [],
   "source": [
    "stopwords= set(['br', 'the', 'i', 'me', 'my', 'myself', 'we', 'our', 'ours', 'ourselves', 'you', \"you're\", \"you've\",\\\n",
    "            \"you'll\", \"you'd\", 'your', 'yours', 'yourself', 'yourselves', 'he', 'him', 'his', 'himself', \\\n",
    "            'she', \"she's\", 'her', 'hers', 'herself', 'it', \"it's\", 'its', 'itself', 'they', 'them', 'their',\\\n",
    "            'theirs', 'themselves', 'what', 'which', 'who', 'whom', 'this', 'that', \"that'll\", 'these', 'those', \\\n",
    "            'am', 'is', 'are', 'was', 'were', 'be', 'been', 'being', 'have', 'has', 'had', 'having', 'do', 'does', \\\n",
    "            'did', 'doing', 'a', 'an', 'the', 'and', 'but', 'if', 'or', 'because', 'as', 'until', 'while', 'of', \\\n",
    "            'at', 'by', 'for', 'with', 'about', 'against', 'between', 'into', 'through', 'during', 'before', 'after',\\\n",
    "            'above', 'below', 'to', 'from', 'up', 'down', 'in', 'out', 'on', 'off', 'over', 'under', 'again', 'further',\\\n",
    "            'then', 'once', 'here', 'there', 'when', 'where', 'why', 'how', 'all', 'any', 'both', 'each', 'few', 'more',\\\n",
    "            'most', 'other', 'some', 'such', 'only', 'own', 'same', 'so', 'than', 'too', 'very', \\\n",
    "            's', 't', 'can', 'will', 'just', 'don', \"don't\", 'should', \"should've\", 'now', 'd', 'll', 'm', 'o', 're', \\\n",
    "            've', 'y', 'ain', 'aren', \"aren't\", 'couldn', \"couldn't\", 'didn', \"didn't\", 'doesn', \"doesn't\", 'hadn',\\\n",
    "            \"hadn't\", 'hasn', \"hasn't\", 'haven', \"haven't\", 'isn', \"isn't\", 'ma', 'mightn', \"mightn't\", 'mustn',\\\n",
    "            \"mustn't\", 'needn', \"needn't\", 'shan', \"shan't\", 'shouldn', \"shouldn't\", 'wasn', \"wasn't\", 'weren', \"weren't\", \\\n",
    "            'won', \"won't\", 'wouldn', \"wouldn't\", \"nan\",\"https\", \"www\", \"com\" ])"
   ]
  },
  {
   "cell_type": "code",
   "execution_count": 7,
   "metadata": {},
   "outputs": [],
   "source": [
    "# https://stackoverflow.com/questions/16206380/python-beautifulsoup-how-to-remove-all-tags-from-an-element\n",
    "from bs4 import BeautifulSoup\n",
    "# https://stackoverflow.com/a/47091490/4084039\n",
    "import re\n",
    "\n",
    "def decontracted(phrase):\n",
    "    # specific\n",
    "    phrase = re.sub(r\"won't\", \"will not\", phrase)\n",
    "    phrase = re.sub(r\"can\\'t\", \"can not\", phrase)\n",
    "\n",
    "    # general\n",
    "    phrase = re.sub(r\"n\\'t\", \" not\", phrase)\n",
    "    phrase = re.sub(r\"\\'re\", \" are\", phrase)\n",
    "    phrase = re.sub(r\"\\'s\", \" is\", phrase)\n",
    "    phrase = re.sub(r\"\\'d\", \" would\", phrase)\n",
    "    phrase = re.sub(r\"\\'ll\", \" will\", phrase)\n",
    "    phrase = re.sub(r\"\\'t\", \" not\", phrase)\n",
    "    phrase = re.sub(r\"\\'ve\", \" have\", phrase)\n",
    "    phrase = re.sub(r\"\\'m\", \" am\", phrase)\n",
    "    return phrase\n"
   ]
  },
  {
   "cell_type": "code",
   "execution_count": 8,
   "metadata": {},
   "outputs": [
    {
     "name": "stderr",
     "output_type": "stream",
     "text": [
      "100%|█████████████████████████████████████████████████████████████████████████████| 2898/2898 [00:05<00:00, 512.51it/s]\n"
     ]
    }
   ],
   "source": [
    "df[\"Text\"] = df[\"title\"].map(str) + df[\"body\"].map(str) + df[\"comments\"].map(str) \n",
    "preprocessed_reviews = []\n",
    "# tqdm is for printing the status bar\n",
    "for sentance in tqdm(df['Text'].values):\n",
    "    sentance = re.sub(r\"http\\S+\", \"\", sentance)\n",
    "    sentance = BeautifulSoup(sentance, 'lxml').get_text()\n",
    "    sentance = decontracted(sentance)\n",
    "    sentance = re.sub(\"\\S*\\d\\S*\", \"\", sentance).strip()\n",
    "    sentance = re.sub('[^A-Za-z]+', ' ', sentance)\n",
    "    # https://gist.github.com/sebleier/554280\n",
    "    sentance = ' '.join(e.lower() for e in sentance.split() if e.lower() not in stopwords)\n",
    "    preprocessed_reviews.append(sentance.strip())"
   ]
  },
  {
   "cell_type": "code",
   "execution_count": 9,
   "metadata": {},
   "outputs": [
    {
     "name": "stdout",
     "output_type": "stream",
     "text": [
      "(2028, 44194) (2028,)\n"
     ]
    }
   ],
   "source": [
    "from sklearn.feature_extraction.text import CountVectorizer\n",
    "from sklearn import preprocessing\n",
    "y=df['flair'][:]\n",
    "# y = preprocessing.label_binarize(y, classes=[0, 1, 2, 3, 4, 5, 6, 7, 8, 9, 10, 11, 12, 13])\n",
    "X=preprocessed_reviews[:]\n",
    "\n",
    "X_train, X_test, y_train, y_test = train_test_split(X,y , test_size=0.30, random_state=42)\n",
    "bow = CountVectorizer()\n",
    "X_train_bow=bow.fit_transform(X_train)\n",
    "X_test_bow=bow.transform(X_test)\n",
    "print(X_train_bow.shape, y_train.shape)"
   ]
  },
  {
   "cell_type": "code",
   "execution_count": 11,
   "metadata": {},
   "outputs": [
    {
     "name": "stdout",
     "output_type": "stream",
     "text": [
      "accuracy 0.44482758620689655\n",
      "                    precision    recall  f1-score   support\n",
      "\n",
      "          AskIndia       0.33      0.79      0.46        72\n",
      "     Non-Political       0.14      0.48      0.21        63\n",
      "     [R]eddiquette       0.53      0.63      0.58        76\n",
      "         Scheduled       0.86      0.51      0.64        35\n",
      "       Photography       0.86      0.10      0.18        61\n",
      "Science/Technology       0.94      0.23      0.37        74\n",
      "          Politics       1.00      0.09      0.17        77\n",
      "  Business/Finance       0.88      0.60      0.71        62\n",
      "    Policy/Economy       0.48      0.64      0.55        67\n",
      "            Sports       0.40      0.45      0.42        62\n",
      "              Food       0.88      0.20      0.33        74\n",
      "               AMA       0.59      0.49      0.53        72\n",
      "       Coronavirus       0.85      0.68      0.75        68\n",
      "       CAA-NRC-NPR       0.00      0.00      0.00         7\n",
      "\n",
      "       avg / total       0.67      0.44      0.44       870\n",
      "\n"
     ]
    }
   ],
   "source": [
    "from sklearn.naive_bayes import MultinomialNB\n",
    "clf=MultinomialNB()\n",
    "\n",
    "clf.fit(X_train_bow, y_train)\n",
    "y_pred = clf.predict(X_test_bow)\n",
    "print('accuracy %s' % accuracy_score(y_pred, y_test))\n",
    "print(classification_report(y_test, y_pred,target_names=flairs))"
   ]
  },
  {
   "cell_type": "code",
   "execution_count": 12,
   "metadata": {},
   "outputs": [
    {
     "name": "stdout",
     "output_type": "stream",
     "text": [
      "accuracy 0.41839080459770117\n",
      "                    precision    recall  f1-score   support\n",
      "\n",
      "          AskIndia       0.62      0.51      0.56        72\n",
      "     Non-Political       0.13      0.87      0.22        63\n",
      "     [R]eddiquette       0.54      0.64      0.59        76\n",
      "         Scheduled       0.82      0.66      0.73        35\n",
      "       Photography       0.73      0.31      0.44        61\n",
      "Science/Technology       0.70      0.26      0.38        74\n",
      "          Politics       0.96      0.31      0.47        77\n",
      "  Business/Finance       0.73      0.61      0.67        62\n",
      "    Policy/Economy       0.81      0.25      0.39        67\n",
      "            Sports       0.53      0.29      0.38        62\n",
      "              Food       0.87      0.18      0.29        74\n",
      "               AMA       0.87      0.18      0.30        72\n",
      "       Coronavirus       0.86      0.56      0.68        68\n",
      "       CAA-NRC-NPR       0.20      0.14      0.17         7\n",
      "\n",
      "       avg / total       0.70      0.42      0.46       870\n",
      "\n"
     ]
    }
   ],
   "source": [
    "from sklearn.linear_model import SGDClassifier\n",
    "clf=SGDClassifier(loss='log', penalty='l2',alpha=1e-3, random_state=42, max_iter=5, tol=None)\n",
    "\n",
    "clf.fit(X_train_bow, y_train)\n",
    "y_pred = clf.predict(X_test_bow)\n",
    "print('accuracy %s' % accuracy_score(y_pred, y_test))\n",
    "print(classification_report(y_test, y_pred,target_names=flairs))"
   ]
  },
  {
   "cell_type": "code",
   "execution_count": 13,
   "metadata": {},
   "outputs": [
    {
     "name": "stdout",
     "output_type": "stream",
     "text": [
      "accuracy 0.4126436781609195\n",
      "                    precision    recall  f1-score   support\n",
      "\n",
      "          AskIndia       0.57      0.54      0.55        72\n",
      "     Non-Political       0.13      0.83      0.22        63\n",
      "     [R]eddiquette       0.62      0.62      0.62        76\n",
      "         Scheduled       0.78      0.60      0.68        35\n",
      "       Photography       0.68      0.41      0.51        61\n",
      "Science/Technology       0.78      0.34      0.47        74\n",
      "          Politics       0.96      0.29      0.44        77\n",
      "  Business/Finance       0.82      0.44      0.57        62\n",
      "    Policy/Economy       0.85      0.25      0.39        67\n",
      "            Sports       0.49      0.31      0.38        62\n",
      "              Food       0.81      0.18      0.29        74\n",
      "               AMA       0.88      0.19      0.32        72\n",
      "       Coronavirus       0.79      0.56      0.66        68\n",
      "       CAA-NRC-NPR       0.00      0.00      0.00         7\n",
      "\n",
      "       avg / total       0.70      0.41      0.46       870\n",
      "\n"
     ]
    }
   ],
   "source": [
    "clf=SGDClassifier(loss='hinge', penalty='l2',alpha=1e-3, random_state=42, max_iter=5, tol=None)\n",
    "\n",
    "clf.fit(X_train_bow, y_train)\n",
    "y_pred = clf.predict(X_test_bow)\n",
    "print('accuracy %s' % accuracy_score(y_pred, y_test))\n",
    "print(classification_report(y_test, y_pred,target_names=flairs))"
   ]
  },
  {
   "cell_type": "code",
   "execution_count": 16,
   "metadata": {},
   "outputs": [
    {
     "name": "stdout",
     "output_type": "stream",
     "text": [
      "accuracy 0.7655172413793103\n",
      "                    precision    recall  f1-score   support\n",
      "\n",
      "          AskIndia       0.77      0.90      0.83        72\n",
      "     Non-Political       0.79      0.86      0.82        63\n",
      "     [R]eddiquette       0.62      0.59      0.61        76\n",
      "         Scheduled       0.81      0.97      0.88        35\n",
      "       Photography       0.79      0.87      0.83        61\n",
      "Science/Technology       0.77      0.82      0.80        74\n",
      "          Politics       0.76      0.83      0.80        77\n",
      "  Business/Finance       0.91      0.85      0.88        62\n",
      "    Policy/Economy       0.59      0.49      0.54        67\n",
      "            Sports       0.57      0.60      0.58        62\n",
      "              Food       0.84      0.76      0.79        74\n",
      "               AMA       0.86      0.69      0.77        72\n",
      "       Coronavirus       0.87      0.87      0.87        68\n",
      "       CAA-NRC-NPR       1.00      0.29      0.44         7\n",
      "\n",
      "       avg / total       0.77      0.77      0.76       870\n",
      "\n"
     ]
    }
   ],
   "source": [
    "clf=tree.DecisionTreeClassifier()\n",
    "\n",
    "clf.fit(X_train_bow, y_train)\n",
    "y_pred = clf.predict(X_test_bow)\n",
    "print('accuracy %s' % accuracy_score(y_pred, y_test))\n",
    "print(classification_report(y_test, y_pred,target_names=flairs))"
   ]
  },
  {
   "cell_type": "code",
   "execution_count": 17,
   "metadata": {},
   "outputs": [
    {
     "name": "stdout",
     "output_type": "stream",
     "text": [
      "accuracy 0.7965517241379311\n",
      "                    precision    recall  f1-score   support\n",
      "\n",
      "          AskIndia       0.72      0.94      0.81        72\n",
      "     Non-Political       0.84      0.75      0.79        63\n",
      "     [R]eddiquette       0.80      0.78      0.79        76\n",
      "         Scheduled       0.86      0.91      0.89        35\n",
      "       Photography       0.67      0.93      0.78        61\n",
      "Science/Technology       0.88      0.76      0.81        74\n",
      "          Politics       0.89      0.86      0.87        77\n",
      "  Business/Finance       0.85      0.85      0.85        62\n",
      "    Policy/Economy       0.62      0.67      0.64        67\n",
      "            Sports       0.59      0.63      0.61        62\n",
      "              Food       0.96      0.66      0.78        74\n",
      "               AMA       0.85      0.81      0.83        72\n",
      "       Coronavirus       0.98      0.88      0.93        68\n",
      "       CAA-NRC-NPR       1.00      0.57      0.73         7\n",
      "\n",
      "       avg / total       0.81      0.80      0.80       870\n",
      "\n"
     ]
    }
   ],
   "source": [
    "from sklearn.ensemble import RandomForestClassifier\n",
    "clf=RandomForestClassifier(n_estimators = 1000, random_state = 42)\n",
    "\n",
    "clf.fit(X_train_bow, y_train)\n",
    "y_pred = clf.predict(X_test_bow)\n",
    "print('accuracy %s' % accuracy_score(y_pred, y_test))\n",
    "print(classification_report(y_test, y_pred,target_names=flairs))"
   ]
  },
  {
   "cell_type": "code",
   "execution_count": 18,
   "metadata": {},
   "outputs": [
    {
     "name": "stdout",
     "output_type": "stream",
     "text": [
      "(2028, 44194) (2028,)\n"
     ]
    }
   ],
   "source": [
    "y=df['flair'][:]\n",
    "# y = preprocessing.label_binarize(y, classes=[0, 1, 2, 3, 4, 5, 6, 7, 8, 9, 10, 11, 12, 13])\n",
    "X=preprocessed_reviews[:]\n",
    "\n",
    "X_train, X_test, y_train, y_test = train_test_split(X,y , test_size=0.30, random_state=42)\n",
    "tfidf = TfidfVectorizer()\n",
    "X_train_tfidf=tfidf.fit_transform(X_train)\n",
    "X_test_tfidf=tfidf.transform(X_test)\n",
    "print(X_train_tfidf.shape, y_train.shape)"
   ]
  },
  {
   "cell_type": "code",
   "execution_count": 27,
   "metadata": {},
   "outputs": [
    {
     "data": {
      "text/plain": [
       "['count_vect.pkl']"
      ]
     },
     "execution_count": 27,
     "metadata": {},
     "output_type": "execute_result"
    }
   ],
   "source": [
    "joblib.dump(tfidf, 'count_vect.pkl')"
   ]
  },
  {
   "cell_type": "code",
   "execution_count": 19,
   "metadata": {},
   "outputs": [
    {
     "name": "stdout",
     "output_type": "stream",
     "text": [
      "accuracy 0.5517241379310345\n",
      "                    precision    recall  f1-score   support\n",
      "\n",
      "          AskIndia       0.75      0.57      0.65        72\n",
      "     Non-Political       0.27      0.62      0.38        63\n",
      "     [R]eddiquette       0.47      0.75      0.58        76\n",
      "         Scheduled       1.00      0.29      0.44        35\n",
      "       Photography       0.85      0.57      0.69        61\n",
      "Science/Technology       0.83      0.70      0.76        74\n",
      "          Politics       1.00      0.12      0.21        77\n",
      "  Business/Finance       0.88      0.74      0.81        62\n",
      "    Policy/Economy       0.52      0.63      0.57        67\n",
      "            Sports       0.26      0.79      0.40        62\n",
      "              Food       0.92      0.30      0.45        74\n",
      "               AMA       0.84      0.44      0.58        72\n",
      "       Coronavirus       0.94      0.68      0.79        68\n",
      "       CAA-NRC-NPR       0.00      0.00      0.00         7\n",
      "\n",
      "       avg / total       0.72      0.55      0.56       870\n",
      "\n"
     ]
    }
   ],
   "source": [
    "clf=MultinomialNB()\n",
    "\n",
    "clf.fit(X_train_tfidf, y_train)\n",
    "y_pred = clf.predict(X_test_tfidf)\n",
    "print('accuracy %s' % accuracy_score(y_pred, y_test))\n",
    "print(classification_report(y_test, y_pred,target_names=flairs))"
   ]
  },
  {
   "cell_type": "code",
   "execution_count": 20,
   "metadata": {},
   "outputs": [
    {
     "name": "stdout",
     "output_type": "stream",
     "text": [
      "accuracy 0.7298850574712644\n",
      "                    precision    recall  f1-score   support\n",
      "\n",
      "          AskIndia       0.77      0.83      0.80        72\n",
      "     Non-Political       0.48      0.68      0.57        63\n",
      "     [R]eddiquette       0.78      0.68      0.73        76\n",
      "         Scheduled       0.80      0.69      0.74        35\n",
      "       Photography       0.75      0.89      0.81        61\n",
      "Science/Technology       0.80      0.81      0.81        74\n",
      "          Politics       0.88      0.60      0.71        77\n",
      "  Business/Finance       0.92      0.87      0.89        62\n",
      "    Policy/Economy       0.57      0.64      0.60        67\n",
      "            Sports       0.45      0.68      0.54        62\n",
      "              Food       0.89      0.57      0.69        74\n",
      "               AMA       0.82      0.76      0.79        72\n",
      "       Coronavirus       0.94      0.87      0.90        68\n",
      "       CAA-NRC-NPR       1.00      0.14      0.25         7\n",
      "\n",
      "       avg / total       0.76      0.73      0.73       870\n",
      "\n"
     ]
    }
   ],
   "source": [
    "clf=SGDClassifier(loss='log', penalty='l2',alpha=1e-3, random_state=42, max_iter=5, tol=None)\n",
    "\n",
    "clf.fit(X_train_tfidf, y_train)\n",
    "y_pred = clf.predict(X_test_tfidf)\n",
    "print('accuracy %s' % accuracy_score(y_pred, y_test))\n",
    "print(classification_report(y_test, y_pred,target_names=flairs))"
   ]
  },
  {
   "cell_type": "code",
   "execution_count": 21,
   "metadata": {},
   "outputs": [
    {
     "name": "stdout",
     "output_type": "stream",
     "text": [
      "accuracy 0.774712643678161\n",
      "                    precision    recall  f1-score   support\n",
      "\n",
      "          AskIndia       0.77      0.89      0.83        72\n",
      "     Non-Political       0.82      0.51      0.63        63\n",
      "     [R]eddiquette       0.76      0.74      0.75        76\n",
      "         Scheduled       0.78      0.89      0.83        35\n",
      "       Photography       0.72      0.97      0.83        61\n",
      "Science/Technology       0.78      0.84      0.81        74\n",
      "          Politics       0.87      0.79      0.83        77\n",
      "  Business/Finance       0.78      0.92      0.84        62\n",
      "    Policy/Economy       0.64      0.70      0.67        67\n",
      "            Sports       0.67      0.55      0.60        62\n",
      "              Food       0.87      0.64      0.73        74\n",
      "               AMA       0.71      0.81      0.75        72\n",
      "       Coronavirus       0.94      0.91      0.93        68\n",
      "       CAA-NRC-NPR       1.00      0.57      0.73         7\n",
      "\n",
      "       avg / total       0.78      0.77      0.77       870\n",
      "\n"
     ]
    }
   ],
   "source": [
    "clf=SGDClassifier(loss='hinge', penalty='l2',alpha=1e-3, random_state=42, max_iter=5, tol=None)\n",
    "clf.fit(X_train_tfidf, y_train)\n",
    "y_pred = clf.predict(X_test_tfidf)\n",
    "print('accuracy %s' % accuracy_score(y_pred, y_test))\n",
    "print(classification_report(y_test, y_pred,target_names=flairs))"
   ]
  },
  {
   "cell_type": "code",
   "execution_count": 22,
   "metadata": {},
   "outputs": [
    {
     "name": "stdout",
     "output_type": "stream",
     "text": [
      "accuracy 0.7620689655172413\n",
      "                    precision    recall  f1-score   support\n",
      "\n",
      "          AskIndia       0.79      0.86      0.83        72\n",
      "     Non-Political       0.79      0.86      0.82        63\n",
      "     [R]eddiquette       0.66      0.71      0.68        76\n",
      "         Scheduled       0.82      0.91      0.86        35\n",
      "       Photography       0.71      0.84      0.77        61\n",
      "Science/Technology       0.81      0.73      0.77        74\n",
      "          Politics       0.81      0.81      0.81        77\n",
      "  Business/Finance       0.90      0.90      0.90        62\n",
      "    Policy/Economy       0.57      0.51      0.54        67\n",
      "            Sports       0.63      0.61      0.62        62\n",
      "              Food       0.80      0.72      0.76        74\n",
      "               AMA       0.84      0.72      0.78        72\n",
      "       Coronavirus       0.79      0.87      0.83        68\n",
      "       CAA-NRC-NPR       1.00      0.29      0.44         7\n",
      "\n",
      "       avg / total       0.76      0.76      0.76       870\n",
      "\n"
     ]
    }
   ],
   "source": [
    "clf=tree.DecisionTreeClassifier()\n",
    "clf.fit(X_train_tfidf, y_train)\n",
    "y_pred = clf.predict(X_test_tfidf)\n",
    "print('accuracy %s' % accuracy_score(y_pred, y_test))\n",
    "print(classification_report(y_test, y_pred,target_names=flairs))"
   ]
  },
  {
   "cell_type": "code",
   "execution_count": 23,
   "metadata": {},
   "outputs": [
    {
     "name": "stdout",
     "output_type": "stream",
     "text": [
      "accuracy 0.7977011494252874\n",
      "                    precision    recall  f1-score   support\n",
      "\n",
      "          AskIndia       0.76      0.94      0.84        72\n",
      "     Non-Political       0.83      0.76      0.79        63\n",
      "     [R]eddiquette       0.78      0.82      0.80        76\n",
      "         Scheduled       0.84      0.89      0.86        35\n",
      "       Photography       0.67      0.87      0.76        61\n",
      "Science/Technology       0.87      0.78      0.82        74\n",
      "          Politics       0.89      0.84      0.87        77\n",
      "  Business/Finance       0.87      0.87      0.87        62\n",
      "    Policy/Economy       0.67      0.66      0.66        67\n",
      "            Sports       0.54      0.61      0.58        62\n",
      "              Food       0.94      0.68      0.79        74\n",
      "               AMA       0.83      0.82      0.83        72\n",
      "       Coronavirus       0.98      0.88      0.93        68\n",
      "       CAA-NRC-NPR       1.00      0.57      0.73         7\n",
      "\n",
      "       avg / total       0.81      0.80      0.80       870\n",
      "\n"
     ]
    }
   ],
   "source": [
    "clf=RandomForestClassifier(n_estimators = 1000, random_state = 42)\n",
    "clf.fit(X_train_tfidf, y_train)\n",
    "y_pred = clf.predict(X_test_tfidf)\n",
    "print('accuracy %s' % accuracy_score(y_pred, y_test))\n",
    "print(classification_report(y_test, y_pred,target_names=flairs))"
   ]
  },
  {
   "cell_type": "code",
   "execution_count": 24,
   "metadata": {},
   "outputs": [
    {
     "name": "stdout",
     "output_type": "stream",
     "text": [
      "accuracy 0.7977011494252874\n",
      "                    precision    recall  f1-score   support\n",
      "\n",
      "          AskIndia       0.73      0.94      0.82        72\n",
      "     Non-Political       0.82      0.75      0.78        63\n",
      "     [R]eddiquette       0.80      0.79      0.79        76\n",
      "         Scheduled       0.82      0.91      0.86        35\n",
      "       Photography       0.68      0.87      0.76        61\n",
      "Science/Technology       0.85      0.78      0.82        74\n",
      "          Politics       0.90      0.84      0.87        77\n",
      "  Business/Finance       0.87      0.87      0.87        62\n",
      "    Policy/Economy       0.68      0.67      0.68        67\n",
      "            Sports       0.54      0.61      0.57        62\n",
      "              Food       0.96      0.68      0.79        74\n",
      "               AMA       0.83      0.83      0.83        72\n",
      "       Coronavirus       0.98      0.88      0.93        68\n",
      "       CAA-NRC-NPR       1.00      0.57      0.73         7\n",
      "\n",
      "       avg / total       0.81      0.80      0.80       870\n",
      "\n"
     ]
    }
   ],
   "source": [
    "clf=RandomForestClassifier(n_estimators = 1500, random_state = 42)\n",
    "clf.fit(X_train_tfidf, y_train)\n",
    "y_pred = clf.predict(X_test_tfidf)\n",
    "print('accuracy %s' % accuracy_score(y_pred, y_test))\n",
    "print(classification_report(y_test, y_pred,target_names=flairs))"
   ]
  },
  {
   "cell_type": "code",
   "execution_count": 40,
   "metadata": {},
   "outputs": [
    {
     "name": "stdout",
     "output_type": "stream",
     "text": [
      "accuracy 0.7988505747126436\n",
      "                    precision    recall  f1-score   support\n",
      "\n",
      "          AskIndia       0.76      0.94      0.84        72\n",
      "     Non-Political       0.80      0.76      0.78        63\n",
      "     [R]eddiquette       0.78      0.79      0.78        76\n",
      "         Scheduled       0.82      0.91      0.86        35\n",
      "       Photography       0.68      0.89      0.77        61\n",
      "Science/Technology       0.84      0.78      0.81        74\n",
      "          Politics       0.89      0.83      0.86        77\n",
      "  Business/Finance       0.87      0.85      0.86        62\n",
      "    Policy/Economy       0.67      0.66      0.66        67\n",
      "            Sports       0.60      0.63      0.61        62\n",
      "              Food       0.96      0.72      0.82        74\n",
      "               AMA       0.83      0.82      0.83        72\n",
      "       Coronavirus       0.95      0.87      0.91        68\n",
      "       CAA-NRC-NPR       1.00      0.57      0.73         7\n",
      "\n",
      "       avg / total       0.81      0.80      0.80       870\n",
      "\n"
     ]
    }
   ],
   "source": [
    "clf=RandomForestClassifier(n_estimators = 500, random_state = 42)\n",
    "clf.fit(X_train_tfidf, y_train)\n",
    "y_pred = clf.predict(X_test_tfidf)\n",
    "print('accuracy %s' % accuracy_score(y_pred, y_test))\n",
    "print(classification_report(y_test, y_pred,target_names=flairs))"
   ]
  },
  {
   "cell_type": "code",
   "execution_count": 41,
   "metadata": {},
   "outputs": [
    {
     "data": {
      "text/plain": [
       "['model.pkl']"
      ]
     },
     "execution_count": 41,
     "metadata": {},
     "output_type": "execute_result"
    }
   ],
   "source": [
    "# joblib.dump(clf, 'model.pkl')"
   ]
  },
  {
   "cell_type": "code",
   "execution_count": 34,
   "metadata": {},
   "outputs": [],
   "source": [
    "def predict(string):\n",
    "    clf = joblib.load('model.pkl')\n",
    "    count_vect = joblib.load('count_vect.pkl')\n",
    "    review_text = decontracted(string)\n",
    "    test_vect = count_vect.transform(([review_text]))\n",
    "    pred = clf.predict(test_vect)\n",
    "\n",
    "    return pred\n",
    "##########################"
   ]
  },
  {
   "cell_type": "code",
   "execution_count": 36,
   "metadata": {},
   "outputs": [
    {
     "name": "stdout",
     "output_type": "stream",
     "text": [
      "['AskIndia']\n"
     ]
    }
   ],
   "source": [
    "print(predict(df['Text'][0]))"
   ]
  },
  {
   "cell_type": "code",
   "execution_count": 33,
   "metadata": {},
   "outputs": [
    {
     "data": {
      "text/html": [
       "<div>\n",
       "<style scoped>\n",
       "    .dataframe tbody tr th:only-of-type {\n",
       "        vertical-align: middle;\n",
       "    }\n",
       "\n",
       "    .dataframe tbody tr th {\n",
       "        vertical-align: top;\n",
       "    }\n",
       "\n",
       "    .dataframe thead th {\n",
       "        text-align: right;\n",
       "    }\n",
       "</style>\n",
       "<table border=\"1\" class=\"dataframe\">\n",
       "  <thead>\n",
       "    <tr style=\"text-align: right;\">\n",
       "      <th></th>\n",
       "      <th>flair</th>\n",
       "      <th>title</th>\n",
       "      <th>score</th>\n",
       "      <th>id</th>\n",
       "      <th>url</th>\n",
       "      <th>comms_num</th>\n",
       "      <th>created</th>\n",
       "      <th>body</th>\n",
       "      <th>author</th>\n",
       "      <th>comments</th>\n",
       "      <th>Text</th>\n",
       "    </tr>\n",
       "  </thead>\n",
       "  <tbody>\n",
       "    <tr>\n",
       "      <th>0</th>\n",
       "      <td>AskIndia</td>\n",
       "      <td>4 days ago we had pending orders of 100 millio...</td>\n",
       "      <td>92</td>\n",
       "      <td>fwjdqr</td>\n",
       "      <td>https://www.reddit.com/r/india/comments/fwjdqr...</td>\n",
       "      <td>6</td>\n",
       "      <td>1.586290e+09</td>\n",
       "      <td>&gt; We are getting frantic calls from our pharma...</td>\n",
       "      <td>india_ko_vanakkam</td>\n",
       "      <td>Modi has Stockholm syndrome To be fair, the e...</td>\n",
       "      <td>4 days ago we had pending orders of 100 millio...</td>\n",
       "    </tr>\n",
       "  </tbody>\n",
       "</table>\n",
       "</div>"
      ],
      "text/plain": [
       "      flair                                              title  score      id  \\\n",
       "0  AskIndia  4 days ago we had pending orders of 100 millio...     92  fwjdqr   \n",
       "\n",
       "                                                 url  comms_num       created  \\\n",
       "0  https://www.reddit.com/r/india/comments/fwjdqr...          6  1.586290e+09   \n",
       "\n",
       "                                                body             author  \\\n",
       "0  > We are getting frantic calls from our pharma...  india_ko_vanakkam   \n",
       "\n",
       "                                            comments  \\\n",
       "0   Modi has Stockholm syndrome To be fair, the e...   \n",
       "\n",
       "                                                Text  \n",
       "0  4 days ago we had pending orders of 100 millio...  "
      ]
     },
     "execution_count": 33,
     "metadata": {},
     "output_type": "execute_result"
    }
   ],
   "source": [
    "df.head(1)"
   ]
  },
  {
   "cell_type": "code",
   "execution_count": 37,
   "metadata": {},
   "outputs": [
    {
     "data": {
      "text/plain": [
       "'https://www.reddit.com/r/india/comments/fwjdqr/4_days_ago_we_had_pending_orders_of_100_million/'"
      ]
     },
     "execution_count": 37,
     "metadata": {},
     "output_type": "execute_result"
    }
   ],
   "source": [
    "df['url'][0]"
   ]
  },
  {
   "cell_type": "code",
   "execution_count": 42,
   "metadata": {},
   "outputs": [],
   "source": [
    "reddit = praw.Reddit(client_id='xqxZ6WzL6TC_PA', client_secret='DGlby5_lzNhqc6BkXOxfQgdxa3Y',\n",
    "                     user_agent='Flair_Detector', username='Aman_Sawarn', password='izgNzhU87c$SmhT')\n",
    "loaded_model = joblib.load('model.pkl')"
   ]
  },
  {
   "cell_type": "code",
   "execution_count": 45,
   "metadata": {},
   "outputs": [],
   "source": [
    "def detect_flair(url):\n",
    "    submission = reddit.submission(url=url)\n",
    "    \n",
    "    data = {}\n",
    "    data['title'] = submission.title\n",
    "    data['url'] = submission.url\n",
    "    submission.comments.replace_more(limit=None)\n",
    "    comment = ''\n",
    "    for top_level_comment in submission.comments:\n",
    "        comment = comment + ' ' + top_level_comment.body\n",
    "    \n",
    "    data[\"comment\"] = comment\n",
    "    data['title'] = decontracted(data['title'])\n",
    "    data['comment'] = decontracted(data['comment'])\n",
    "    data['combine'] = data['title'] + data['comment'] + data['url']\n",
    "    \n",
    "    return data['combine']"
   ]
  },
  {
   "cell_type": "code",
   "execution_count": 46,
   "metadata": {},
   "outputs": [
    {
     "data": {
      "text/plain": [
       "\"4 days ago we had pending orders of 100 million hydroxychloroquine tablets which had been placed by state run hospitals, now suddenly we have enough of these tablets to suit the regime is agenda. Modi has Stockholm syndrome To be fair, the evidence that chloroquine works is anecdotal and not scientifically proven. The entire Story has emerged from some right wing corner in the US. A Trump supporting couple self prescribed themselves chloroquine after Trump described it as a  amiracle'. The man died and the woman was admitted to intensive care.\\n\\nBest to placate Trump by giving him his snake oil and keep enough for our reasonable internal use instead of stockpiling. Next thing you know he is threatening 3M India and they stop making N95 masks. It is just Trump is and mudis pr stunthttps://www.reddit.com/r/india/comments/fwjdqr/4_days_ago_we_had_pending_orders_of_100_million/\""
      ]
     },
     "execution_count": 46,
     "metadata": {},
     "output_type": "execute_result"
    }
   ],
   "source": [
    "url='https://www.reddit.com/r/india/comments/fwjdqr/4_days_ago_we_had_pending_orders_of_100_million/'\n",
    "detect_flair(url)"
   ]
  },
  {
   "cell_type": "code",
   "execution_count": 50,
   "metadata": {},
   "outputs": [
    {
     "data": {
      "text/plain": [
       "str"
      ]
     },
     "execution_count": 50,
     "metadata": {},
     "output_type": "execute_result"
    }
   ],
   "source": [
    "type(detect_flair(url))"
   ]
  },
  {
   "cell_type": "code",
   "execution_count": 49,
   "metadata": {},
   "outputs": [
    {
     "name": "stdout",
     "output_type": "stream",
     "text": [
      "['Coronavirus']\n"
     ]
    }
   ],
   "source": [
    "print(predict(detect_flair(url)))"
   ]
  },
  {
   "cell_type": "markdown",
   "metadata": {},
   "source": [
    "##### Well, till now we have been trying Random Forests which is an ensemble methood\n",
    "##### Problem: The dumped pickle file has a size of 131 MB\n",
    "##### It can't be pushed to github now. So, lets tune SVM as it also has an okayish performance"
   ]
  },
  {
   "cell_type": "code",
   "execution_count": 57,
   "metadata": {},
   "outputs": [
    {
     "name": "stdout",
     "output_type": "stream",
     "text": [
      "accuracy 0.7965517241379311\n",
      "                    precision    recall  f1-score   support\n",
      "\n",
      "          AskIndia       0.84      0.89      0.86        72\n",
      "     Non-Political       0.80      0.75      0.77        63\n",
      "     [R]eddiquette       0.75      0.75      0.75        76\n",
      "         Scheduled       0.80      0.80      0.80        35\n",
      "       Photography       0.81      0.97      0.88        61\n",
      "Science/Technology       0.76      0.84      0.79        74\n",
      "          Politics       0.80      0.82      0.81        77\n",
      "  Business/Finance       0.88      0.97      0.92        62\n",
      "    Policy/Economy       0.67      0.64      0.66        67\n",
      "            Sports       0.63      0.60      0.61        62\n",
      "              Food       0.88      0.70      0.78        74\n",
      "               AMA       0.82      0.78      0.80        72\n",
      "       Coronavirus       0.90      0.90      0.90        68\n",
      "       CAA-NRC-NPR       1.00      0.57      0.73         7\n",
      "\n",
      "       avg / total       0.80      0.80      0.79       870\n",
      "\n"
     ]
    }
   ],
   "source": [
    "clf=SGDClassifier(loss='hinge', penalty='l1',alpha=1e-4, random_state=42, max_iter=5, tol=None)\n",
    "clf.fit(X_train_tfidf, y_train)\n",
    "y_pred = clf.predict(X_test_tfidf)\n",
    "print('accuracy %s' % accuracy_score(y_pred, y_test))\n",
    "print(classification_report(y_test, y_pred,target_names=flairs))"
   ]
  },
  {
   "cell_type": "code",
   "execution_count": 58,
   "metadata": {},
   "outputs": [
    {
     "data": {
      "text/plain": [
       "['model.pkl']"
      ]
     },
     "execution_count": 58,
     "metadata": {},
     "output_type": "execute_result"
    }
   ],
   "source": [
    "joblib.dump(clf, 'model.pkl')"
   ]
  },
  {
   "cell_type": "code",
   "execution_count": 59,
   "metadata": {},
   "outputs": [
    {
     "name": "stdout",
     "output_type": "stream",
     "text": [
      "AskIndia\n"
     ]
    }
   ],
   "source": [
    "url=df['url'][100]\n",
    "print(df['flair'][100])"
   ]
  },
  {
   "cell_type": "code",
   "execution_count": 60,
   "metadata": {},
   "outputs": [
    {
     "name": "stdout",
     "output_type": "stream",
     "text": [
      "['AskIndia']\n"
     ]
    }
   ],
   "source": [
    "print(predict(detect_flair(url)))"
   ]
  },
  {
   "cell_type": "code",
   "execution_count": 71,
   "metadata": {},
   "outputs": [
    {
     "name": "stdout",
     "output_type": "stream",
     "text": [
      "['Policy/Economy']\n",
      "Scheduled\n"
     ]
    }
   ],
   "source": [
    "print(predict(X_test[3]))\n",
    "print(y_test[485])"
   ]
  },
  {
   "cell_type": "code",
   "execution_count": 73,
   "metadata": {},
   "outputs": [
    {
     "data": {
      "text/plain": [
       "array(['AskIndia'], dtype='<U18')"
      ]
     },
     "execution_count": 73,
     "metadata": {},
     "output_type": "execute_result"
    }
   ],
   "source": [
    "a=detect_flair(url)\n",
    "predict(a)"
   ]
  },
  {
   "cell_type": "code",
   "execution_count": null,
   "metadata": {},
   "outputs": [],
   "source": []
  }
 ],
 "metadata": {
  "kernelspec": {
   "display_name": "Python 3",
   "language": "python",
   "name": "python3"
  },
  "language_info": {
   "codemirror_mode": {
    "name": "ipython",
    "version": 3
   },
   "file_extension": ".py",
   "mimetype": "text/x-python",
   "name": "python",
   "nbconvert_exporter": "python",
   "pygments_lexer": "ipython3",
   "version": "3.6.5"
  }
 },
 "nbformat": 4,
 "nbformat_minor": 2
}
